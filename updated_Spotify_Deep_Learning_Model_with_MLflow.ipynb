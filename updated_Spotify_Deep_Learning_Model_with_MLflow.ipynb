{
 "cells": [
  {
   "cell_type": "code",
   "execution_count": null,
   "id": "3e241e20",
   "metadata": {},
   "outputs": [],
   "source": [
    "\n",
    "import pandas as pd\n",
    "from sklearn.model_selection import train_test_split\n",
    "from sklearn.preprocessing import StandardScaler\n",
    "from tensorflow.keras.models import Sequential\n",
    "from tensorflow.keras.layers import Dense\n",
    "from tensorflow.keras.utils import to_categorical\n",
    "import mlflow\n",
    "from mlflow import log_metric, log_param, log_artifact\n",
    "import mlflow.keras\n",
    "    "
   ]
  },
  {
   "cell_type": "markdown",
   "id": "d473eac8",
   "metadata": {},
   "source": [
    "POPULARITY SYSTEM"
   ]
  },
  {
   "cell_type": "code",
   "execution_count": null,
   "id": "8f2187de",
   "metadata": {},
   "outputs": [],
   "source": [
    "\n",
    "# MLflow experiment name\n",
    "mlflow.set_experiment('Spotify Popularity Prediction')\n",
    "\n",
    "# Load the data\n",
    "spotify_data_path = 'sorted_spotify_data.csv'\n",
    "spotify_data = pd.read_csv(spotify_data_path)\n",
    "\n",
    "# Binarize the 'popularity' column for classification\n",
    "spotify_data['high_popularity'] = (spotify_data['popularity'] > 50).astype(int)\n",
    "    "
   ]
  },
  {
   "cell_type": "code",
   "execution_count": null,
   "id": "045afae2",
   "metadata": {},
   "outputs": [],
   "source": [
    "\n",
    "# For simplicity, select a few numeric features to use\n",
    "features = ['danceability', 'energy']\n",
    "\n",
    "X = spotify_data[features]\n",
    "y = spotify_data['high_popularity']\n",
    "    "
   ]
  },
  {
   "cell_type": "code",
   "execution_count": null,
   "id": "d357bad3",
   "metadata": {},
   "outputs": [],
   "source": [
    "\n",
    "# Scale the features\n",
    "scaler = StandardScaler()\n",
    "X_scaled = scaler.fit_transform(X)\n",
    "\n",
    "# Split the data into training and testing sets\n",
    "X_train, X_test, y_train, y_test = train_test_split(X_scaled, y, test_size=0.2, random_state=42)\n",
    "\n",
    "# Convert labels to categorical one-hot encoding\n",
    "y_train_categorical = to_categorical(y_train, num_classes=2)\n",
    "y_test_categorical = to_categorical(y_test, num_classes=2)\n",
    "    "
   ]
  },
  {
   "cell_type": "code",
   "execution_count": null,
   "id": "5649eddf",
   "metadata": {},
   "outputs": [],
   "source": [
    "\n",
    "# Start an MLflow run\n",
    "with mlflow.start_run():\n",
    "    # Define the model architecture\n",
    "    model = Sequential([\n",
    "        Dense(64, input_shape=(X_train.shape[1],), activation='relu'),\n",
    "        Dense(32, activation='relu'),\n",
    "        Dense(2, activation='softmax')\n",
    "    ])\n",
    "    \n",
    "    # Compile the model\n",
    "    model.compile(optimizer='adam', loss='categorical_crossentropy', metrics=['accuracy'])\n",
    "    \n",
    "    # Log model parameters\n",
    "    log_param(\"num_layers\", 2)\n",
    "    log_param(\"num_units_layer1\", 64)\n",
    "    log_param(\"num_units_layer2\", 32)\n",
    "    log_param(\"optimizer\", 'adam')\n",
    "    \n",
    "    # Train the model and log the training process\n",
    "    history = model.fit(X_train, y_train_categorical, epochs=50, batch_size=32, verbose=1)\n",
    "    \n",
    "    # Log training metrics\n",
    "    log_metric(\"train_accuracy\", max(history.history['accuracy']))\n",
    "    log_metric(\"train_loss\", min(history.history['loss']))\n",
    "    \n",
    "    # Evaluate the model and log the final metrics\n",
    "    results = model.evaluate(X_test, y_test_categorical)\n",
    "    log_metric(\"test_loss\", results[0])\n",
    "    log_metric(\"test_accuracy\", results[1])\n",
    "    \n",
    "    # Log the model\n",
    "    mlflow.keras.log_model(model, \"model\")\n",
    "    print(results)"
   ]
  },
  {
   "cell_type": "markdown",
   "id": "f559e747",
   "metadata": {},
   "source": [
    "RECOMMENDING SYSTEM"
   ]
  },
  {
   "cell_type": "code",
   "execution_count": 2,
   "id": "68727f08",
   "metadata": {},
   "outputs": [
    {
     "name": "stdout",
     "output_type": "stream",
     "text": [
      "                                          track_name  popularity  \\\n",
      "0                                       Cruel Summer         100   \n",
      "1                Seven (feat. Latto) (Explicit Ver.)          99   \n",
      "2                                               LALA          99   \n",
      "3  What Was I Made For? [From The Motion Picture ...          98   \n",
      "4            Dance The Night - From Barbie The Album          97   \n",
      "\n",
      "     artists_names                        artist_genres  danceability  energy  \\\n",
      "0     Taylor Swift                                  pop         0.552  0.7020   \n",
      "1  Jung Kook;Latto                                k-pop         0.802  0.8320   \n",
      "2      Myke Towers  reggaeton;trap latino;urbano latino         0.708  0.7370   \n",
      "3    Billie Eilish               art pop;electropop;pop         0.444  0.0911   \n",
      "4         Dua Lipa                 dance pop;pop;uk pop         0.671  0.8450   \n",
      "\n",
      "     liked  \n",
      "0     like  \n",
      "1  dislike  \n",
      "2     like  \n",
      "3     like  \n",
      "4     like  \n"
     ]
    }
   ],
   "source": [
    "import pandas as pd\n",
    "\n",
    "# Load the CSV file containing user preferences and song information\n",
    "file_path = 'recommended_tracks.csv'  # Update this path\n",
    "data = pd.read_csv(file_path)\n",
    "\n",
    "# Display the first few rows to understand the data structure\n",
    "print(data.head())"
   ]
  },
  {
   "cell_type": "code",
   "execution_count": null,
   "id": "18375ed5",
   "metadata": {},
   "outputs": [],
   "source": [
    "\n",
    "def get_disliked_artists(df):\n",
    "    # Assuming there is a 'liked' column where 0 represents dislike\n",
    "    # 'artists_names' should be the column with the artist's name\n",
    "    # We also assume that the artist names are already encoded as integers\n",
    "    disliked_artists = df[df['liked'] == 0]['artists_names'].unique().tolist()\n",
    "    return disliked_artists\n"
   ]
  },
  {
   "cell_type": "code",
   "execution_count": null,
   "id": "9c0c2360",
   "metadata": {},
   "outputs": [],
   "source": [
    "\n",
    "def recommend_songs(song_index, cosine_sim, df_preprocessed, disliked_artists, num_recommendations=5):\n",
    "    sim_scores = list(enumerate(cosine_sim[song_index]))\n",
    "    sim_scores = sorted(sim_scores, key=lambda x: x[1], reverse=True)\n",
    "    \n",
    "    # Filter out songs by disliked artists\n",
    "    recommended_indices = [\n",
    "        i[0] for i in sim_scores if df_preprocessed.iloc[i[0]]['artists_names'] not in disliked_artists\n",
    "    ]\n",
    "    \n",
    "    # Get the top N recommendations excluding the song itself\n",
    "    recommended_indices = recommended_indices[1:num_recommendations+1]\n",
    "    \n",
    "    return df_preprocessed['track_name'].iloc[recommended_indices].tolist()\n"
   ]
  }
 ],
 "metadata": {
  "kernelspec": {
   "display_name": "base",
   "language": "python",
   "name": "python3"
  },
  "language_info": {
   "codemirror_mode": {
    "name": "ipython",
    "version": 3
   },
   "file_extension": ".py",
   "mimetype": "text/x-python",
   "name": "python",
   "nbconvert_exporter": "python",
   "pygments_lexer": "ipython3",
   "version": "3.9.12"
  }
 },
 "nbformat": 4,
 "nbformat_minor": 5
}
